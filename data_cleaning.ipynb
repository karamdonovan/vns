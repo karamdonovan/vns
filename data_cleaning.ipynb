{
 "cells": [
  {
   "cell_type": "code",
   "execution_count": 4,
   "metadata": {},
   "outputs": [],
   "source": [
    "import pandas as pd\n",
    "import mat4py as mp\n",
    "from glob import glob\n",
    "from datetime import datetime\n",
    "\n",
    "pd.set_option('io.hdf.default_format','table')"
   ]
  },
  {
   "cell_type": "code",
   "execution_count": 5,
   "metadata": {},
   "outputs": [],
   "source": [
    "files = glob('data/0-raw/*.mat')"
   ]
  },
  {
   "cell_type": "code",
   "execution_count": 6,
   "metadata": {},
   "outputs": [],
   "source": [
    "def date_from_filename(filename):\n",
    "    parsed = filename.split('_')\n",
    "    day = int(parsed[1])\n",
    "    month = int(parsed[2])\n",
    "    year = int(parsed[3])\n",
    "    hour = int(parsed[4])\n",
    "    minute = int(parsed[5][:2])\n",
    "    return datetime(year, month, day, hour, minute)"
   ]
  },
  {
   "cell_type": "code",
   "execution_count": 82,
   "metadata": {
    "collapsed": true,
    "jupyter": {
     "outputs_hidden": true
    }
   },
   "outputs": [
    {
     "name": "stdout",
     "output_type": "stream",
     "text": [
      "data/0-raw/BFnovelinac_01_02_2019_15_03.mat\n",
      "data/0-raw/BFnovelinac_01_02_2019_16_08.mat\n",
      "data/0-raw/BFnovelinac_03_12_2018_12_52.mat\n",
      "data/0-raw/BFnovelinac_03_12_2018_13_15.mat\n",
      "data/0-raw/BFnovelinac_05_12_2018_13_06.mat\n",
      "data/0-raw/BFnovelinac_07_12_2018_09_21.mat\n",
      "data/0-raw/BFnovelinac_07_12_2018_10_10.mat\n",
      "data/0-raw/BFnovelinac_07_12_2018_11_15.mat\n",
      "data/0-raw/BFnovelinac_09_11_2018_15_21.mat\n",
      "data/0-raw/BFnovelinac_12_11_2018_16_19.mat\n",
      "data/0-raw/BFnovelinac_12_11_2018_16_25.mat\n",
      "data/0-raw/BFnovelinac_12_11_2018_16_31.mat\n",
      "data/0-raw/BFnovelinac_13_11_2018_15_01.mat\n",
      "data/0-raw/BFnovelinac_13_12_2018_10_54.mat\n",
      "data/0-raw/BFnovelinac_13_12_2018_11_02.mat\n",
      "data/0-raw/BFnovelinac_13_12_2018_11_44.mat\n",
      "data/0-raw/BFnovelinac_13_12_2018_12_57.mat\n",
      "data/0-raw/BFnovelinac_14_01_2019_14_44.mat\n",
      "data/0-raw/BFnovelinac_14_01_2019_16_21.mat\n",
      "data/0-raw/BFnovelinac_14_11_2018_15_35.mat\n",
      "data/0-raw/BFnovelinac_14_11_2018_16_09.mat\n",
      "data/0-raw/BFnovelinac_15_01_2019_14_28.mat\n",
      "data/0-raw/BFnovelinac_15_01_2019_16_16.mat\n",
      "data/0-raw/BFnovelinac_15_11_2018_15_32.mat\n",
      "data/0-raw/BFnovelinac_15_11_2018_15_34.mat\n",
      "data/0-raw/BFnovelinac_16_01_2019_14_29.mat\n",
      "data/0-raw/BFnovelinac_16_11_2018_15_35.mat\n",
      "data/0-raw/BFnovelinac_16_11_2018_16_44.mat\n",
      "data/0-raw/BFnovelinac_16_11_2018_17_11.mat\n",
      "data/0-raw/BFnovelinac_17_01_2019_14_54.mat\n",
      "data/0-raw/BFnovelinac_17_01_2019_16_21.mat\n",
      "data/0-raw/BFnovelinac_18_01_2019_14_22.mat\n",
      "data/0-raw/BFnovelinac_18_01_2019_15_58.mat\n",
      "data/0-raw/BFnovelinac_18_12_2018_13_36.mat\n",
      "data/0-raw/BFnovelinac_19_11_2018_15_46.mat\n",
      "data/0-raw/BFnovelinac_19_11_2018_16_39.mat\n",
      "data/0-raw/BFnovelinac_19_11_2018_16_46.mat\n",
      "data/0-raw/BFnovelinac_19_12_2018_11_02.mat\n",
      "data/0-raw/BFnovelinac_19_12_2018_11_31.mat\n",
      "data/0-raw/BFnovelinac_19_12_2018_15_30.mat\n",
      "data/0-raw/BFnovelinac_19_12_2018_15_57.mat\n",
      "data/0-raw/BFnovelinac_19_12_2018_16_27.mat\n",
      "data/0-raw/BFnovelinac_19_12_2018_17_24.mat\n",
      "data/0-raw/BFnovelinac_20_11_2018_15_28.mat\n",
      "data/0-raw/BFnovelinac_20_11_2018_16_48.mat\n",
      "data/0-raw/BFnovelinac_20_12_2018_14_56.mat\n",
      "data/0-raw/BFnovelinac_20_12_2018_15_29.mat\n",
      "data/0-raw/BFnovelinac_20_12_2018_15_55.mat\n",
      "data/0-raw/BFnovelinac_20_12_2018_16_57.mat\n",
      "data/0-raw/BFnovelinac_21_11_2018_15_32.mat\n",
      "data/0-raw/BFnovelinac_21_11_2018_15_50.mat\n",
      "data/0-raw/BFnovelinac_21_11_2018_16_10.mat\n",
      "data/0-raw/BFnovelinac_21_11_2018_16_30.mat\n",
      "data/0-raw/BFnovelinac_21_12_2018_14_56.mat\n",
      "data/0-raw/BFnovelinac_21_12_2018_16_34.mat\n",
      "data/0-raw/BFnovelinac_22_01_2019_14_41.mat\n",
      "data/0-raw/BFnovelinac_22_01_2019_15_10.mat\n",
      "data/0-raw/BFnovelinac_22_01_2019_16_01.mat\n",
      "data/0-raw/BFnovelinac_22_01_2019_16_19.mat\n",
      "data/0-raw/BFnovelinac_22_10_2018_15_55.mat\n",
      "data/0-raw/BFnovelinac_22_10_2018_16_11.mat\n",
      "data/0-raw/BFnovelinac_22_10_2018_16_39.mat\n",
      "data/0-raw/BFnovelinac_23_01_2019_14_31.mat\n",
      "data/0-raw/BFnovelinac_23_01_2019_15_38.mat\n",
      "data/0-raw/BFnovelinac_23_01_2019_15_39.mat\n",
      "data/0-raw/BFnovelinac_23_10_2018_15_14.mat\n",
      "data/0-raw/BFnovelinac_23_10_2018_16_14.mat\n",
      "data/0-raw/BFnovelinac_24_01_2019_15_06.mat\n",
      "data/0-raw/BFnovelinac_24_10_2018_16_01.mat\n",
      "data/0-raw/BFnovelinac_26_10_2018_16_48.mat\n",
      "data/0-raw/BFnovelinac_29_01_2019_14_42.mat\n",
      "data/0-raw/BFnovelinac_29_01_2019_16_02.mat\n",
      "data/0-raw/BFnovelinac_30_01_2019_14_59.mat\n",
      "data/0-raw/BFnovelinac_30_01_2019_16_38.mat\n",
      "data/0-raw/BFnovelinac_31_01_2019_14_31.mat\n",
      "data/0-raw/BFnovelinac_31_01_2019_16_11.mat\n"
     ]
    }
   ],
   "source": [
    "for file in files:\n",
    "    date = date_from_filename(file)\n",
    "    data = pd.DataFrame(mp.loadmat(file))\n",
    "    data.index = data.index.set_names('Trial')\n",
    "    data['datetime'] = date\n",
    "    \n",
    "    eye_samples = data.explode('online_eye')\n",
    "    eye_samples[['Pupils','x','y','t']] = pd.DataFrame(eye_samples['online_eye'].tolist(), index=eye_samples.index)\n",
    "    eye_samples = eye_samples.reset_index()\n",
    "    eye_samples = eye_samples.drop(columns=['online_eye'])\n",
    "    \n",
    "    trials = data.drop(columns=['online_eye'])\n",
    "    trials = trials.set_index(['datetime',trials.index])\n",
    "    trial_codes = {6101:'Novel', 6111: 'Novel Learning', 6102: 'Familiar', 6112: 'Familiar Learning'}\n",
    "    trials['type'] = trials['trial_type'].map(trial_codes)\n",
    "    trials['t0'] = eye_samples.groupby(['datetime','Trial']).first()['t']\n",
    "    trials_eye = trials.reset_index().merge(eye_samples)\n",
    "    eye_samples['timedelta'] = trials_eye['t'] - trials_eye['t0']\n",
    "    eye_samples.to_hdf('data/1-normalized.hdf','eye_samples', append=True)\n",
    "    trials.to_hdf('data/1-normalized.hdf','trials', append=True)"
   ]
  },
  {
   "cell_type": "code",
   "execution_count": 23,
   "metadata": {},
   "outputs": [],
   "source": [
    "trials = pd.read_hdf('data/1-normalized.hdf','trials')\n",
    "eye_samples = pd.read_hdf('data/1-normalized.hdf','eye_samples')"
   ]
  }
 ],
 "metadata": {
  "kernelspec": {
   "display_name": "Python 3",
   "language": "python",
   "name": "python3"
  },
  "language_info": {
   "codemirror_mode": {
    "name": "ipython",
    "version": 3
   },
   "file_extension": ".py",
   "mimetype": "text/x-python",
   "name": "python",
   "nbconvert_exporter": "python",
   "pygments_lexer": "ipython3",
   "version": "3.8.3"
  }
 },
 "nbformat": 4,
 "nbformat_minor": 4
}
